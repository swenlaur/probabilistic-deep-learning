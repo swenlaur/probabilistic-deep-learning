{
 "cells": [
  {
   "cell_type": "markdown",
   "id": "5e640e46",
   "metadata": {
    "slideshow": {
     "slide_type": "notes"
    }
   },
   "source": [
    "# Markov-Chain Monte-Carlo Methods \n",
    "\n",
    "\\begin{align*}\n",
    "\\newcommand{\\vec}[1]{\\boldsymbol{#1}}\n",
    "\\newcommand{\\pr}[1]{\\Pr\\left[#1\\right]}\n",
    "\\newcommand{\\p}[1]{p\\left[#1\\right]}\n",
    "\\newcommand{\\SSS}{\\mathcal{S}}\n",
    "\\end{align*}\n",
    "\n",
    "* https://towardsdatascience.com/gibbs-sampling-8e4844560ae5\n",
    "* https://stats.stackexchange.com/questions/48838/intuitive-explanation-for-periodicity-in-markov-chains\n",
    "* https://bayes.wustl.edu/Manual/RadfordNeal.review.pdf\n",
    "* http://www.mcmchandbook.net/HandbookChapter5.pdf\n",
    "* https://www.jstor.org/stable/2289457#metadata_info_tab_contents\n",
    "* http://hedibert.org/wp-content/uploads/2013/12/1987Pearl.pdf\n",
    "* https://www.sciencedirect.com/science/article/abs/pii/0004370292900667\n",
    "* https://books.google.ee/books?id=LHHrBwAAQBAJ&printsec=frontcover&hl=fr&source=gbs_ge_summary_r&cad=0#v=onepage&q&f=false"
   ]
  },
  {
   "cell_type": "code",
   "execution_count": 1,
   "id": "b4136d8b",
   "metadata": {
    "slideshow": {
     "slide_type": "notes"
    }
   },
   "outputs": [],
   "source": [
    "import numpy as np\n",
    "import tensorflow as tf\n",
    "import tensorflow_probability as tfp\n",
    "from tensorflow_probability.python.mcmc import kernel as kernel_base\n",
    "\n",
    "\n",
    "from pandas import DataFrame\n",
    "from numpy.random import choice\n",
    "from pretty_printing import mdisplay "
   ]
  },
  {
   "cell_type": "markdown",
   "id": "43ecb803",
   "metadata": {
    "slideshow": {
     "slide_type": "slide"
    }
   },
   "source": [
    "<center><h1>Markov Chain Monte Carlo in TFP</h1> </center>\n",
    "<center><h2>Theoretical overview</h2></center>\n",
    "<br>\n",
    "<center><h3>Sven Laur</h3></center>\n",
    "<center><h3>swen@ut.ee</h3></center>"
   ]
  },
  {
   "cell_type": "markdown",
   "id": "daa7f9ea",
   "metadata": {
    "slideshow": {
     "slide_type": "slide"
    }
   },
   "source": [
    "## Markov Chains\n",
    "\n",
    "For simplicity let us consider discrete Markov chain with three states. \n",
    "<center>\n",
    "    <img src='./illustrations/three-state-model.png' width=40% alt='Markov Chain'>\n",
    "</center>\n",
    "\n",
    "* **State space:** The set of all possible states $\\SSS=\\{0,1,2\\}$.  \n",
    "* **Initial distribution:** Each row element $\\pi_i=\\pr{i}$ specifies the probability that we start form the state $i$. \n",
    "* **State transition matrix:** Each matrix element $p_{ij}=\\pr{i\\to j}$ specifies the probability going form the state $i$ to state $j$. \n",
    "* **Probability update rule:** The probability vector for next state is given $\\pi(t+1)=\\pi(t)P$\n"
   ]
  },
  {
   "cell_type": "markdown",
   "id": "a6512e5f",
   "metadata": {
    "slideshow": {
     "slide_type": "slide"
    }
   },
   "source": [
    "## Well-behaving  Markov Chain\n",
    "\n",
    "Markov chain is irreversible iff each state can be reached from each other state.\n",
    "<center>\n",
    "    <img src='./illustrations/three-state-model.png' width=40% alt='Markov Chain'>\n",
    "</center>"
   ]
  },
  {
   "cell_type": "code",
   "execution_count": 5,
   "id": "04f36f7e",
   "metadata": {
    "slideshow": {
     "slide_type": "subslide"
    }
   },
   "outputs": [
    {
     "data": {
      "text/html": [
       "<table style=\"display:inline\"><tr><td style=\"text-align:center\">Initial probability</td><td style=\"text-align:center\">Transition matrix</td></tr><tr><td style=\"vertical-align:top\"> <table style=\"display:inline\" border=\"1\" class=\"dataframe\">\n",
       "  <thead>\n",
       "    <tr style=\"text-align: right;\">\n",
       "      <th>0</th>\n",
       "      <th>1</th>\n",
       "      <th>2</th>\n",
       "    </tr>\n",
       "  </thead>\n",
       "  <tbody>\n",
       "    <tr>\n",
       "      <td>0.333333</td>\n",
       "      <td>0.333333</td>\n",
       "      <td>0.333333</td>\n",
       "    </tr>\n",
       "  </tbody>\n",
       "</table style=\"display:inline\"></td><td style=\"vertical-align:top\"> <table style=\"display:inline\" border=\"1\" class=\"dataframe\">\n",
       "  <thead>\n",
       "    <tr style=\"text-align: right;\">\n",
       "      <th>0</th>\n",
       "      <th>1</th>\n",
       "      <th>2</th>\n",
       "    </tr>\n",
       "  </thead>\n",
       "  <tbody>\n",
       "    <tr>\n",
       "      <td>0.0</td>\n",
       "      <td>0.5</td>\n",
       "      <td>0.5</td>\n",
       "    </tr>\n",
       "    <tr>\n",
       "      <td>0.5</td>\n",
       "      <td>0.5</td>\n",
       "      <td>0.0</td>\n",
       "    </tr>\n",
       "    <tr>\n",
       "      <td>0.5</td>\n",
       "      <td>0.0</td>\n",
       "      <td>0.5</td>\n",
       "    </tr>\n",
       "  </tbody>\n",
       "</table style=\"display:inline\"></td></tr></table style=\"display:inline\">"
      ]
     },
     "metadata": {},
     "output_type": "display_data"
    },
    {
     "data": {
      "text/html": [
       "<table style=\"display:inline\"><tr><td style=\"text-align:center\">t=0</td><td style=\"text-align:center\">t=1</td><td style=\"text-align:center\">t=2</td><td style=\"text-align:center\">t=3</td><td style=\"text-align:center\">t=4</td></tr><tr><td style=\"vertical-align:top\"> <table style=\"display:inline\" border=\"1\" class=\"dataframe\">\n",
       "  <thead>\n",
       "    <tr style=\"text-align: right;\">\n",
       "      <th>0</th>\n",
       "      <th>1</th>\n",
       "      <th>2</th>\n",
       "    </tr>\n",
       "  </thead>\n",
       "  <tbody>\n",
       "    <tr>\n",
       "      <td>0.333333</td>\n",
       "      <td>0.333333</td>\n",
       "      <td>0.333333</td>\n",
       "    </tr>\n",
       "  </tbody>\n",
       "</table style=\"display:inline\"></td><td style=\"vertical-align:top\"> <table style=\"display:inline\" border=\"1\" class=\"dataframe\">\n",
       "  <thead>\n",
       "    <tr style=\"text-align: right;\">\n",
       "      <th>0</th>\n",
       "      <th>1</th>\n",
       "      <th>2</th>\n",
       "    </tr>\n",
       "  </thead>\n",
       "  <tbody>\n",
       "    <tr>\n",
       "      <td>0.333333</td>\n",
       "      <td>0.333333</td>\n",
       "      <td>0.333333</td>\n",
       "    </tr>\n",
       "  </tbody>\n",
       "</table style=\"display:inline\"></td><td style=\"vertical-align:top\"> <table style=\"display:inline\" border=\"1\" class=\"dataframe\">\n",
       "  <thead>\n",
       "    <tr style=\"text-align: right;\">\n",
       "      <th>0</th>\n",
       "      <th>1</th>\n",
       "      <th>2</th>\n",
       "    </tr>\n",
       "  </thead>\n",
       "  <tbody>\n",
       "    <tr>\n",
       "      <td>0.333333</td>\n",
       "      <td>0.333333</td>\n",
       "      <td>0.333333</td>\n",
       "    </tr>\n",
       "  </tbody>\n",
       "</table style=\"display:inline\"></td><td style=\"vertical-align:top\"> <table style=\"display:inline\" border=\"1\" class=\"dataframe\">\n",
       "  <thead>\n",
       "    <tr style=\"text-align: right;\">\n",
       "      <th>0</th>\n",
       "      <th>1</th>\n",
       "      <th>2</th>\n",
       "    </tr>\n",
       "  </thead>\n",
       "  <tbody>\n",
       "    <tr>\n",
       "      <td>0.333333</td>\n",
       "      <td>0.333333</td>\n",
       "      <td>0.333333</td>\n",
       "    </tr>\n",
       "  </tbody>\n",
       "</table style=\"display:inline\"></td><td style=\"vertical-align:top\"> <table style=\"display:inline\" border=\"1\" class=\"dataframe\">\n",
       "  <thead>\n",
       "    <tr style=\"text-align: right;\">\n",
       "      <th>0</th>\n",
       "      <th>1</th>\n",
       "      <th>2</th>\n",
       "    </tr>\n",
       "  </thead>\n",
       "  <tbody>\n",
       "    <tr>\n",
       "      <td>0.333333</td>\n",
       "      <td>0.333333</td>\n",
       "      <td>0.333333</td>\n",
       "    </tr>\n",
       "  </tbody>\n",
       "</table style=\"display:inline\"></td></tr></table style=\"display:inline\">"
      ]
     },
     "metadata": {},
     "output_type": "display_data"
    }
   ],
   "source": [
    "#pi = DataFrame([[1, 0, 0]])\n",
    "pi = DataFrame([[1/3, 1/3, 1/3]])\n",
    "P = DataFrame([[0, 1/2, 1/2], [1/2, 1/2, 0], [1/2, 0, 1/2]])\n",
    "mdisplay([pi, P], ['Initial probability','Transition matrix'])\n",
    "mdisplay([pi, pi.dot(P), pi.dot(P).dot(P), pi.dot(P).dot(P).dot(P), pi.dot(P).dot(P).dot(P).dot(P) ], ['t=0', 't=1', 't=2', 't=3', 't=4'])"
   ]
  },
  {
   "cell_type": "markdown",
   "id": "415437ae",
   "metadata": {
    "slideshow": {
     "slide_type": "slide"
    }
   },
   "source": [
    "## Misbehaving Markov Chain\n",
    "\n",
    "Markov Chain is absorbable if a state is not reachable from some other state.\n",
    "<center>\n",
    "    <img src='./illustrations/two-sink-model.png' width=40% alt='Absorbing Markov Chain'>\n",
    "</center>\n"
   ]
  },
  {
   "cell_type": "code",
   "execution_count": 8,
   "id": "d1c1f8ce",
   "metadata": {
    "slideshow": {
     "slide_type": "subslide"
    }
   },
   "outputs": [
    {
     "data": {
      "text/html": [
       "<table style=\"display:inline\"><tr><td style=\"text-align:center\">Initial probability</td><td style=\"text-align:center\">Transition matrix</td></tr><tr><td style=\"vertical-align:top\"> <table style=\"display:inline\" border=\"1\" class=\"dataframe\">\n",
       "  <thead>\n",
       "    <tr style=\"text-align: right;\">\n",
       "      <th>0</th>\n",
       "      <th>1</th>\n",
       "      <th>2</th>\n",
       "    </tr>\n",
       "  </thead>\n",
       "  <tbody>\n",
       "    <tr>\n",
       "      <td>0</td>\n",
       "      <td>0</td>\n",
       "      <td>1</td>\n",
       "    </tr>\n",
       "  </tbody>\n",
       "</table style=\"display:inline\"></td><td style=\"vertical-align:top\"> <table style=\"display:inline\" border=\"1\" class=\"dataframe\">\n",
       "  <thead>\n",
       "    <tr style=\"text-align: right;\">\n",
       "      <th>0</th>\n",
       "      <th>1</th>\n",
       "      <th>2</th>\n",
       "    </tr>\n",
       "  </thead>\n",
       "  <tbody>\n",
       "    <tr>\n",
       "      <td>0</td>\n",
       "      <td>0.5</td>\n",
       "      <td>0.5</td>\n",
       "    </tr>\n",
       "    <tr>\n",
       "      <td>0</td>\n",
       "      <td>1.0</td>\n",
       "      <td>0.0</td>\n",
       "    </tr>\n",
       "    <tr>\n",
       "      <td>0</td>\n",
       "      <td>0.0</td>\n",
       "      <td>1.0</td>\n",
       "    </tr>\n",
       "  </tbody>\n",
       "</table style=\"display:inline\"></td></tr></table style=\"display:inline\">"
      ]
     },
     "metadata": {},
     "output_type": "display_data"
    },
    {
     "data": {
      "text/html": [
       "<table style=\"display:inline\"><tr><td style=\"text-align:center\">t=0</td><td style=\"text-align:center\">t=1</td><td style=\"text-align:center\">t=2</td><td style=\"text-align:center\">t=3</td><td style=\"text-align:center\">t=4</td></tr><tr><td style=\"vertical-align:top\"> <table style=\"display:inline\" border=\"1\" class=\"dataframe\">\n",
       "  <thead>\n",
       "    <tr style=\"text-align: right;\">\n",
       "      <th>0</th>\n",
       "      <th>1</th>\n",
       "      <th>2</th>\n",
       "    </tr>\n",
       "  </thead>\n",
       "  <tbody>\n",
       "    <tr>\n",
       "      <td>0</td>\n",
       "      <td>0</td>\n",
       "      <td>1</td>\n",
       "    </tr>\n",
       "  </tbody>\n",
       "</table style=\"display:inline\"></td><td style=\"vertical-align:top\"> <table style=\"display:inline\" border=\"1\" class=\"dataframe\">\n",
       "  <thead>\n",
       "    <tr style=\"text-align: right;\">\n",
       "      <th>0</th>\n",
       "      <th>1</th>\n",
       "      <th>2</th>\n",
       "    </tr>\n",
       "  </thead>\n",
       "  <tbody>\n",
       "    <tr>\n",
       "      <td>0.0</td>\n",
       "      <td>0.0</td>\n",
       "      <td>1.0</td>\n",
       "    </tr>\n",
       "  </tbody>\n",
       "</table style=\"display:inline\"></td><td style=\"vertical-align:top\"> <table style=\"display:inline\" border=\"1\" class=\"dataframe\">\n",
       "  <thead>\n",
       "    <tr style=\"text-align: right;\">\n",
       "      <th>0</th>\n",
       "      <th>1</th>\n",
       "      <th>2</th>\n",
       "    </tr>\n",
       "  </thead>\n",
       "  <tbody>\n",
       "    <tr>\n",
       "      <td>0.0</td>\n",
       "      <td>0.0</td>\n",
       "      <td>1.0</td>\n",
       "    </tr>\n",
       "  </tbody>\n",
       "</table style=\"display:inline\"></td><td style=\"vertical-align:top\"> <table style=\"display:inline\" border=\"1\" class=\"dataframe\">\n",
       "  <thead>\n",
       "    <tr style=\"text-align: right;\">\n",
       "      <th>0</th>\n",
       "      <th>1</th>\n",
       "      <th>2</th>\n",
       "    </tr>\n",
       "  </thead>\n",
       "  <tbody>\n",
       "    <tr>\n",
       "      <td>0.0</td>\n",
       "      <td>0.0</td>\n",
       "      <td>1.0</td>\n",
       "    </tr>\n",
       "  </tbody>\n",
       "</table style=\"display:inline\"></td><td style=\"vertical-align:top\"> <table style=\"display:inline\" border=\"1\" class=\"dataframe\">\n",
       "  <thead>\n",
       "    <tr style=\"text-align: right;\">\n",
       "      <th>0</th>\n",
       "      <th>1</th>\n",
       "      <th>2</th>\n",
       "    </tr>\n",
       "  </thead>\n",
       "  <tbody>\n",
       "    <tr>\n",
       "      <td>0.0</td>\n",
       "      <td>0.0</td>\n",
       "      <td>1.0</td>\n",
       "    </tr>\n",
       "  </tbody>\n",
       "</table style=\"display:inline\"></td></tr></table style=\"display:inline\">"
      ]
     },
     "metadata": {},
     "output_type": "display_data"
    }
   ],
   "source": [
    "#pi = DataFrame([[1, 0, 0]])\n",
    "#pi = DataFrame([[0, 1, 0]])\n",
    "pi = DataFrame([[0, 0, 1]])\n",
    "Q = DataFrame([[0, 1/2, 1/2], [0, 1, 0], [0, 0, 1]])\n",
    "mdisplay([pi, Q], ['Initial probability','Transition matrix'])\n",
    "mdisplay([pi, pi.dot(Q), pi.dot(Q).dot(Q), pi.dot(Q).dot(Q).dot(Q), pi.dot(Q).dot(Q).dot(Q).dot(Q) ], ['t=0', 't=1', 't=2', 't=3', 't=4'])"
   ]
  },
  {
   "cell_type": "markdown",
   "id": "65432176",
   "metadata": {
    "slideshow": {
     "slide_type": "slide"
    }
   },
   "source": [
    "## Misbehaving Markov Chain\n",
    "\n",
    "* A time $t$ is a return-time for a state $x$ if it is possible to return to $x$ after $t$-timesteps.  \n",
    "* A chain is aperiodic if after a finite time all return times are possible for each state.\n",
    "* Periodic chains have sevaral stationary distributions. \n",
    "<center>\n",
    "    <img src='./illustrations/periodic-chain.png' width=30% alt='Periodic chain'>\n",
    "</center>"
   ]
  },
  {
   "cell_type": "code",
   "execution_count": 10,
   "id": "0eb4fcd6",
   "metadata": {
    "slideshow": {
     "slide_type": "subslide"
    }
   },
   "outputs": [
    {
     "data": {
      "text/html": [
       "<table style=\"display:inline\"><tr><td style=\"text-align:center\">Initial probability</td><td style=\"text-align:center\">Transition matrix</td></tr><tr><td style=\"vertical-align:top\"> <table style=\"display:inline\" border=\"1\" class=\"dataframe\">\n",
       "  <thead>\n",
       "    <tr style=\"text-align: right;\">\n",
       "      <th>0</th>\n",
       "      <th>1</th>\n",
       "      <th>2</th>\n",
       "    </tr>\n",
       "  </thead>\n",
       "  <tbody>\n",
       "    <tr>\n",
       "      <td>0.333333</td>\n",
       "      <td>0.333333</td>\n",
       "      <td>0.333333</td>\n",
       "    </tr>\n",
       "  </tbody>\n",
       "</table style=\"display:inline\"></td><td style=\"vertical-align:top\"> <table style=\"display:inline\" border=\"1\" class=\"dataframe\">\n",
       "  <thead>\n",
       "    <tr style=\"text-align: right;\">\n",
       "      <th>0</th>\n",
       "      <th>1</th>\n",
       "      <th>2</th>\n",
       "    </tr>\n",
       "  </thead>\n",
       "  <tbody>\n",
       "    <tr>\n",
       "      <td>0</td>\n",
       "      <td>1</td>\n",
       "      <td>0</td>\n",
       "    </tr>\n",
       "    <tr>\n",
       "      <td>0</td>\n",
       "      <td>0</td>\n",
       "      <td>1</td>\n",
       "    </tr>\n",
       "    <tr>\n",
       "      <td>1</td>\n",
       "      <td>0</td>\n",
       "      <td>0</td>\n",
       "    </tr>\n",
       "  </tbody>\n",
       "</table style=\"display:inline\"></td></tr></table style=\"display:inline\">"
      ]
     },
     "metadata": {},
     "output_type": "display_data"
    },
    {
     "data": {
      "text/html": [
       "<table style=\"display:inline\"><tr><td style=\"text-align:center\">t=0</td><td style=\"text-align:center\">t=1</td><td style=\"text-align:center\">t=2</td><td style=\"text-align:center\">t=3</td><td style=\"text-align:center\">t=4</td></tr><tr><td style=\"vertical-align:top\"> <table style=\"display:inline\" border=\"1\" class=\"dataframe\">\n",
       "  <thead>\n",
       "    <tr style=\"text-align: right;\">\n",
       "      <th>0</th>\n",
       "      <th>1</th>\n",
       "      <th>2</th>\n",
       "    </tr>\n",
       "  </thead>\n",
       "  <tbody>\n",
       "    <tr>\n",
       "      <td>0.333333</td>\n",
       "      <td>0.333333</td>\n",
       "      <td>0.333333</td>\n",
       "    </tr>\n",
       "  </tbody>\n",
       "</table style=\"display:inline\"></td><td style=\"vertical-align:top\"> <table style=\"display:inline\" border=\"1\" class=\"dataframe\">\n",
       "  <thead>\n",
       "    <tr style=\"text-align: right;\">\n",
       "      <th>0</th>\n",
       "      <th>1</th>\n",
       "      <th>2</th>\n",
       "    </tr>\n",
       "  </thead>\n",
       "  <tbody>\n",
       "    <tr>\n",
       "      <td>0.333333</td>\n",
       "      <td>0.333333</td>\n",
       "      <td>0.333333</td>\n",
       "    </tr>\n",
       "  </tbody>\n",
       "</table style=\"display:inline\"></td><td style=\"vertical-align:top\"> <table style=\"display:inline\" border=\"1\" class=\"dataframe\">\n",
       "  <thead>\n",
       "    <tr style=\"text-align: right;\">\n",
       "      <th>0</th>\n",
       "      <th>1</th>\n",
       "      <th>2</th>\n",
       "    </tr>\n",
       "  </thead>\n",
       "  <tbody>\n",
       "    <tr>\n",
       "      <td>0.333333</td>\n",
       "      <td>0.333333</td>\n",
       "      <td>0.333333</td>\n",
       "    </tr>\n",
       "  </tbody>\n",
       "</table style=\"display:inline\"></td><td style=\"vertical-align:top\"> <table style=\"display:inline\" border=\"1\" class=\"dataframe\">\n",
       "  <thead>\n",
       "    <tr style=\"text-align: right;\">\n",
       "      <th>0</th>\n",
       "      <th>1</th>\n",
       "      <th>2</th>\n",
       "    </tr>\n",
       "  </thead>\n",
       "  <tbody>\n",
       "    <tr>\n",
       "      <td>0.333333</td>\n",
       "      <td>0.333333</td>\n",
       "      <td>0.333333</td>\n",
       "    </tr>\n",
       "  </tbody>\n",
       "</table style=\"display:inline\"></td><td style=\"vertical-align:top\"> <table style=\"display:inline\" border=\"1\" class=\"dataframe\">\n",
       "  <thead>\n",
       "    <tr style=\"text-align: right;\">\n",
       "      <th>0</th>\n",
       "      <th>1</th>\n",
       "      <th>2</th>\n",
       "    </tr>\n",
       "  </thead>\n",
       "  <tbody>\n",
       "    <tr>\n",
       "      <td>0.333333</td>\n",
       "      <td>0.333333</td>\n",
       "      <td>0.333333</td>\n",
       "    </tr>\n",
       "  </tbody>\n",
       "</table style=\"display:inline\"></td></tr></table style=\"display:inline\">"
      ]
     },
     "metadata": {},
     "output_type": "display_data"
    }
   ],
   "source": [
    "#pi = DataFrame([[1, 0, 0]])\n",
    "#pi = DataFrame([[0, 1, 0]])\n",
    "#pi = DataFrame([[0, 0, 1]])\n",
    "pi = DataFrame([[1/3, 1/3, 1/3]])\n",
    "Q = DataFrame([[0, 1, 0], [0, 0, 1], [1, 0, 0]])\n",
    "mdisplay([pi, Q], ['Initial probability','Transition matrix'])\n",
    "mdisplay([pi, pi.dot(Q), pi.dot(Q).dot(Q), pi.dot(Q).dot(Q).dot(Q), pi.dot(Q).dot(Q).dot(Q).dot(Q) ], ['t=0', 't=1', 't=2', 't=3', 't=4'])"
   ]
  },
  {
   "cell_type": "markdown",
   "id": "f88f29c5",
   "metadata": {
    "slideshow": {
     "slide_type": "slide"
    }
   },
   "source": [
    "##  Chains Monte-Carlo sampling\n",
    "\n",
    "Ergodic Markov Chains have a uniqe stationary distribution and the chain converges to it regardless if the initial state.\n",
    "\n",
    "**Theorem.** A Markov Chain is ergodic if and only if the chain is irreducible and aperiodic. \n",
    "\n",
    "**MCMC principle.** We can use Markov Chain for sor sampling provided that we can define state transitions so that the stationary distribution is our desired distribution. \n",
    "\n",
    "**Design goal**: We need to define transition probabilities so that for the transition preserves the desired distribution $\\pi$: \n",
    "\n",
    "\\begin{align*}\n",
    "\\pi[x]=\\sum_y\\pi[y]\\cdot\\p{y\\to x}\\enspace.\n",
    "\\end{align*}\n"
   ]
  },
  {
   "cell_type": "markdown",
   "id": "e9d64373",
   "metadata": {
    "slideshow": {
     "slide_type": "subslide"
    }
   },
   "source": [
    "\n",
    "##  Chains Monte-Carlo sampling\n",
    "\n",
    "\n",
    "**Design goal.** We need to define transition probabilities so that for the transition preserves the desired distribution $\\pi$: \n",
    "\n",
    "\\begin{align*}\n",
    "\\pi[x]=\\sum_y\\pi[y]\\cdot\\p{y\\to x}\\enspace.\n",
    "\\end{align*}\n",
    "\n",
    "There are three common ways to define sampling procedure:\n",
    "* Gibbs sampling\n",
    "* Metropolis–Hastings algorithm\n",
    "* Hamiltonian MonteCarlo algorithm"
   ]
  },
  {
   "cell_type": "markdown",
   "id": "c78768b2",
   "metadata": {
    "slideshow": {
     "slide_type": "slide"
    }
   },
   "source": [
    "## Gibbs sampler\n",
    "\n",
    "**Problem.** We want to sample from the distribution $\\p{x_1,\\ldots, x_n}$ but we have learned only a conditional distributions $\\p{x_i|x_1,\\ldots,x_{i-1},x_{i+1},\\ldots,x_n}$.\n",
    "\n",
    "**State transition mechanism:**\n",
    "\n",
    "\\begin{align*}\n",
    "x_1 &\\sim \\p{x_1|x_2,\\ldots, x_n}\\\\\n",
    "\\ldots\\\\\n",
    "x_i &\\sim \\p{x_i|x_1,\\ldots,x_{i-1},x_{i+1},\\ldots,x_{n}}\\\\\n",
    "\\ldots\\\\\n",
    "x_n &\\sim \\p{x_n|x_1\\ldots,x_{n-1}}\n",
    "\\end{align*}"
   ]
  },
  {
   "cell_type": "markdown",
   "id": "b3e28078",
   "metadata": {
    "slideshow": {
     "slide_type": "slide"
    }
   },
   "source": [
    "## Why Gibbs sampling works?\n",
    "\n",
    "Note that the $i$-th subtransition preserves the distribution $\\pi[\\vec{x}]=\\p{x_1,\\ldots,x_n}$:\n",
    "\n",
    "\\begin{align*}\n",
    "\\sum_{\\vec{y}} \\pi(\\vec{y})\\cdot\\p{\\vec{y}\\to \\vec{x}}\n",
    "&=\\sum_{\\vec{y}}\\p{y_i|y_1,\\ldots,y_{i-1},y_{i+1},\\ldots,y_{n}}\n",
    "\\cdot\\p{y_1,\\ldots,y_{i-1},y_{i+1},\\ldots,y_{n}} \n",
    "\\cdot\\p{x_i|y_1,\\ldots,y_{i-1},y_{i+1},\\ldots,y_{n}}\\cdot \\prod_{j\\neq i} [x_j=y_j]\\\\\n",
    "&=\\sum_{y_i}\\p{y_i|x_1,\\ldots,x_{i-1},x_{i+1},\\ldots,x_{n}}\n",
    "\\cdot\\p{x_1,\\ldots,x_{i-1},x_{i+1},\\ldots,x_{n}} \n",
    "\\cdot\\p{x_i|x_1,\\ldots,x_{i-1},x_{i+1},\\ldots,x_{n}}\\\\\n",
    "&=\\p{x_1,\\ldots,x_{i-1},x_{i+1},\\ldots,x_{n}} \n",
    "\\cdot\\p{x_i|x_1,\\ldots,x_{i-1},x_{i+1},\\ldots,x_{n}}\n",
    "\\cdot\\sum_{y_i}\\p{y_i|x_1,\\ldots,x_{i-1},x_{i+1},\\ldots,x_{n}}\\\\\n",
    "&=\\p{x_1,\\ldots,x_{i-1},x_i,x_{i+1},\\ldots,x_{n}}=\\pi[\\vec{x}] \n",
    "\\end{align*}\n"
   ]
  },
  {
   "cell_type": "markdown",
   "id": "bcdf6167",
   "metadata": {
    "slideshow": {
     "slide_type": "subslide"
    }
   },
   "source": [
    "## Why Gibbs sampling works?\n",
    "\n",
    "Note that the $i$-th subtransition preserves the distribution $\\pi[\\vec{x}]=\\p{x_1,\\ldots,x_n}$:\n",
    "\n",
    "\\begin{align*}\n",
    "\\sum_{\\vec{y}} \\pi(\\vec{y})\\cdot\\p{\\vec{y}\\to \\vec{x}}\n",
    "&=\\p{x_1,\\ldots,x_{i-1},x_i,x_{i+1},\\ldots,x_{n}}=\\pi[\\vec{x}] \n",
    "\\end{align*}\n",
    "\n",
    "Consequently the entire transition must preserve the distribution. \n",
    "\n",
    "**Loopholes.** \n",
    "* The chain can be absorbing if some states of $x_i$ are not reachable for some sub-transitions.\n",
    "* Additional care is needed when all states are not reachable from each sate."
   ]
  },
  {
   "cell_type": "markdown",
   "id": "297bdc00",
   "metadata": {
    "slideshow": {
     "slide_type": "slide"
    }
   },
   "source": [
    "## Simple example problem\n",
    "\n",
    "\n",
    "Let us consider four element Markov field\n",
    "\n",
    "<center>\n",
    "<img src = 'illustrations/markov-random-field-iv.png' width=15%>\n",
    "</center>    \n",
    "\n",
    "where all random variales $X_i$ have only two states $\\{0,1\\}$ and the node is set to $1$ with the following probabilities\n",
    " \n",
    "\n",
    "|Left |Right |Probability \n",
    "|---|---|---|\n",
    "| 0 | 0 | $1/4$ |\n",
    "| 0 | 1 | $1/4$ |\n",
    "| 1 | 0 | $1/4$ |\n",
    "| 1 | 1 | $3/4$ | \n"
   ]
  },
  {
   "cell_type": "markdown",
   "id": "379efb4c",
   "metadata": {
    "slideshow": {
     "slide_type": "slide"
    }
   },
   "source": [
    "## Naive solution in Pyhton"
   ]
  },
  {
   "cell_type": "code",
   "execution_count": 11,
   "id": "35823cfc",
   "metadata": {
    "slideshow": {
     "slide_type": "subslide"
    }
   },
   "outputs": [],
   "source": [
    "prob_map = {\n",
    "    (0,0): 1/4, \n",
    "    (0,1): 1/4,\n",
    "    (1,0): 1/4,\n",
    "    (1,1): 3/4\n",
    "}"
   ]
  },
  {
   "cell_type": "code",
   "execution_count": 12,
   "id": "fa360e34",
   "metadata": {
    "slideshow": {
     "slide_type": "subslide"
    }
   },
   "outputs": [
    {
     "name": "stdout",
     "output_type": "stream",
     "text": [
      "[1, 0, 0, 0]\n",
      "[0, 0, 0, 0]\n",
      "[1, 1, 0, 0]\n",
      "[0, 0, 1, 0]\n",
      "[0, 0, 1, 0]\n",
      "[0, 0, 0, 0]\n",
      "[1, 0, 0, 1]\n",
      "[0, 0, 0, 0]\n",
      "[0, 1, 1, 1]\n",
      "[0, 1, 1, 1]\n"
     ]
    }
   ],
   "source": [
    "for k in range(10):\n",
    "    # Initialise Gibbs sampler \n",
    "    X = [0,1,0,1]\n",
    "    for t in range(1000):\n",
    "        # Singe state transition\n",
    "        for i in range(4):\n",
    "            # Sample from a probabilistic model\n",
    "            p = prob_map[X[(i - 1) % 4], X[(i + 1) % 4]]\n",
    "            X[i] = choice([0,1], p=[1-p, p])\n",
    "    # Output a sample\n",
    "    print(X)"
   ]
  },
  {
   "cell_type": "markdown",
   "id": "a13fe5cd",
   "metadata": {
    "slideshow": {
     "slide_type": "slide"
    }
   },
   "source": [
    "## Naive implentation in Tensorflow Probability"
   ]
  },
  {
   "cell_type": "code",
   "execution_count": 13,
   "id": "1ccfafa6",
   "metadata": {
    "slideshow": {
     "slide_type": "subslide"
    }
   },
   "outputs": [
    {
     "name": "stdout",
     "output_type": "stream",
     "text": [
      "[0, 1, 0, 0]\n",
      "[0, 1, 1, 0]\n",
      "[0, 0, 1, 0]\n",
      "[0, 1, 0, 0]\n",
      "[1, 0, 0, 1]\n",
      "[0, 0, 0, 0]\n",
      "[0, 1, 0, 0]\n",
      "[1, 0, 1, 1]\n",
      "[1, 0, 0, 1]\n",
      "[0, 1, 0, 0]\n"
     ]
    }
   ],
   "source": [
    "for k in range(10):\n",
    "    # Initialise Gibbs sampler \n",
    "    X = tf.constant([0,1,0,1]) \n",
    "    for t in range(1000):\n",
    "        # Singe state transition\n",
    "        for i in range(4):\n",
    "            # Sample from probabilistic model\n",
    "            y = X[(i - 1) % 4] & X[(i + 1) % 4]\n",
    "            p = y * 3/4 + (1 - y) * 1/4\n",
    "            x = int(np.random.uniform() <= p)\n",
    "            # Update the state tensor\n",
    "            X = tf.tensor_scatter_nd_update(X, [[i]], [x])\n",
    "    # Output a sample\n",
    "    print(list(X.numpy()))"
   ]
  },
  {
   "cell_type": "markdown",
   "id": "2d2a3938",
   "metadata": {
    "slideshow": {
     "slide_type": "slide"
    }
   },
   "source": [
    "## Canonical implementation using tfp.mcmc.TransitionKernel\n",
    "\n",
    "**def** `bootstrap_results(init_state: Tensor) -> Tuple`: \n",
    "* Compute startup auxiliary information used in state update function. \n",
    "\n",
    "**def** `one_step(current_state: Tensor, auxiliary_info: Tuple) -> Tuple[Tensor, Tuple]`:\n",
    "* Sample next state as Tensor. \n",
    "* Update auxiliary information used in next step\n",
    "\n",
    "**def** `is_calibrated`\n",
    "* Does it converge to specified distribution"
   ]
  },
  {
   "cell_type": "markdown",
   "id": "f8d17811",
   "metadata": {
    "slideshow": {
     "slide_type": "subslide"
    }
   },
   "source": [
    "To run the Markov Chain we need to invoke `tfp.mcmc.sample_chain` with parameters\n",
    "* `num_results`\n",
    "* `num_burnin_steps`\n",
    "* `current_state`\n",
    "* `kernel`"
   ]
  },
  {
   "cell_type": "code",
   "execution_count": 14,
   "id": "8109cec5",
   "metadata": {
    "slideshow": {
     "slide_type": "subslide"
    }
   },
   "outputs": [],
   "source": [
    "class GibbsKernel(kernel_base.TransitionKernel):\n",
    "    \n",
    "    def __init__(self):\n",
    "        pass\n",
    "    \n",
    "    def is_calibrated(self):\n",
    "        return True\n",
    "    \n",
    "    def bootstrap_results(self, init_state):\n",
    "        return tuple()\n",
    "    \n",
    "    def one_step(self, X, auxiliary_info):\n",
    "        y = X[(i - 1) % 4] & X[(i + 1) % 4]\n",
    "        p = y * 3/4 + (1 - y) * 1/4\n",
    "        x = int(np.random.uniform() <= p)\n",
    "        # Update the state tensor\n",
    "        return tf.tensor_scatter_nd_update(X, [[i]], [x]), tuple()  "
   ]
  },
  {
   "cell_type": "code",
   "execution_count": 15,
   "id": "879b1f5f",
   "metadata": {
    "slideshow": {
     "slide_type": "subslide"
    }
   },
   "outputs": [
    {
     "data": {
      "text/html": [
       "<table style=\"display:inline\"><tr><td style=\"text-align:center\">Output states</td></tr><tr><td style=\"vertical-align:top\"> <table style=\"display:inline\" border=\"1\" class=\"dataframe\">\n",
       "  <thead>\n",
       "    <tr style=\"text-align: right;\">\n",
       "      <th>X0</th>\n",
       "      <th>X1</th>\n",
       "      <th>X2</th>\n",
       "      <th>X3</th>\n",
       "    </tr>\n",
       "  </thead>\n",
       "  <tbody>\n",
       "    <tr>\n",
       "      <td>0</td>\n",
       "      <td>1</td>\n",
       "      <td>0</td>\n",
       "      <td>0</td>\n",
       "    </tr>\n",
       "    <tr>\n",
       "      <td>0</td>\n",
       "      <td>1</td>\n",
       "      <td>0</td>\n",
       "      <td>1</td>\n",
       "    </tr>\n",
       "    <tr>\n",
       "      <td>0</td>\n",
       "      <td>1</td>\n",
       "      <td>0</td>\n",
       "      <td>1</td>\n",
       "    </tr>\n",
       "    <tr>\n",
       "      <td>0</td>\n",
       "      <td>1</td>\n",
       "      <td>0</td>\n",
       "      <td>1</td>\n",
       "    </tr>\n",
       "    <tr>\n",
       "      <td>0</td>\n",
       "      <td>1</td>\n",
       "      <td>0</td>\n",
       "      <td>0</td>\n",
       "    </tr>\n",
       "    <tr>\n",
       "      <td>0</td>\n",
       "      <td>1</td>\n",
       "      <td>0</td>\n",
       "      <td>1</td>\n",
       "    </tr>\n",
       "    <tr>\n",
       "      <td>0</td>\n",
       "      <td>1</td>\n",
       "      <td>0</td>\n",
       "      <td>0</td>\n",
       "    </tr>\n",
       "    <tr>\n",
       "      <td>0</td>\n",
       "      <td>1</td>\n",
       "      <td>0</td>\n",
       "      <td>1</td>\n",
       "    </tr>\n",
       "    <tr>\n",
       "      <td>0</td>\n",
       "      <td>1</td>\n",
       "      <td>0</td>\n",
       "      <td>0</td>\n",
       "    </tr>\n",
       "    <tr>\n",
       "      <td>0</td>\n",
       "      <td>1</td>\n",
       "      <td>0</td>\n",
       "      <td>0</td>\n",
       "    </tr>\n",
       "  </tbody>\n",
       "</table style=\"display:inline\"></td></tr></table style=\"display:inline\">"
      ]
     },
     "metadata": {},
     "output_type": "display_data"
    }
   ],
   "source": [
    "output = tfp.mcmc.sample_chain(\n",
    "    num_results=10,\n",
    "    num_burnin_steps=1000,\n",
    "    current_state=tf.constant([0,1,0,1]),\n",
    "    kernel=GibbsKernel(),\n",
    "    trace_fn=None\n",
    ")\n",
    "mdisplay([DataFrame(output.numpy(),columns=['X0', 'X1', 'X2', 'X3'])],['Output states'])"
   ]
  },
  {
   "cell_type": "markdown",
   "id": "d02d4a46",
   "metadata": {
    "slideshow": {
     "slide_type": "slide"
    }
   },
   "source": [
    "## Applications of Gibbs sampling\n",
    "\n",
    "**Image synthesis:** \n",
    "* We can easily build an probabilistic model that predicts pixel form its neighbour region.\n",
    "\n",
    "**Data Augmentation Algorithm:** \n",
    "* Sometimes it is impossible to implement the EM algorithm as the E-step does not have an analytical solution.  \n",
    "* Gibbs sampling can bypass this problem and samples to approximate the expectation."
   ]
  },
  {
   "cell_type": "markdown",
   "id": "660ef601",
   "metadata": {
    "slideshow": {
     "slide_type": "subslide"
    }
   },
   "source": [
    "**Belief propagation in Bayesion networks**\n",
    "* Sometimes analytical methods fail for Bayesian networks\n",
    "* Gibbs sampling can be used to estimate posterior distribution.\n",
    "\n",
    "\n",
    "**Bayesian training of neural networks** \n",
    "\n",
    "* The ancient articles explain how to train Bayesian neural network   "
   ]
  },
  {
   "cell_type": "markdown",
   "id": "2b95e416",
   "metadata": {
    "slideshow": {
     "slide_type": "slide"
    }
   },
   "source": [
    "## Metropolis–Hastings algorithm\n",
    "\n",
    "**Problem.** We want to sample from a distribution $\\p{x_1,\\ldots,x_n}\\propto f(x_1,\\ldots,x_n)$. \n",
    "\n",
    "**State transition mechanism:**\n",
    "\n",
    "* Fix a proposal distribution $q[\\vec{x}\\to\\vec{y}]$ for generating output candidates.\n",
    "* Given a state $\\vec{x}$ generate a proposal state $\\vec{x}'$ according to the candidate transition.\n",
    "* Accept $\\vec{x}'$ with the probability \n",
    "\n",
    "  \\begin{align*}\n",
    "  a[\\vec{x}\\to\\vec{x}']=\\frac{\\p{\\smash{\\vec{x}'}}}{\\p{\\vec{x}}}=\\frac{f(\\vec{x}')}{f(\\vec{x})}\\enspace.\n",
    "  \\end{align*}\n",
    "* Otherwise, output $\\vec{x}$. "
   ]
  },
  {
   "cell_type": "markdown",
   "id": "2a297f75",
   "metadata": {
    "slideshow": {
     "slide_type": "slide"
    }
   },
   "source": [
    "## Why Metropolis–Hastings algorithm works?\n",
    "\n",
    "Note that detailed balance\n",
    "\n",
    "  \\begin{align*} \n",
    "  \\pi[\\vec{x}]\\cdot\\p{\\vec{x}\\to\\vec{y}}=\\pi[\\vec{y}]\\cdot\\p{\\vec{y}\\to\\vec{x}}\n",
    "  \\end{align*}\n",
    "\n",
    "implies that the transition preserves the distribution\n",
    "\n",
    " \\begin{align*}\n",
    " \\sum_{\\vec{y}}\\pi[\\vec{y}]\\cdot \\p{\\vec{y}\\to\\vec{x}}=\n",
    " \\sum_{\\vec{y}}\\pi[\\vec{x}]\\cdot \\p{\\vec{x}\\to\\vec{y}}=\n",
    " \\pi[\\vec{x}]\\cdot\\sum_{\\vec{y}}\\cdot \\p{\\vec{x}\\to\\vec{y}}=\\pi[\\vec{x}]\n",
    " \\end{align*}\n",
    "\n",
    "When $\\vec{x}\\neq \\vec{y}$ we can express for the disribution $\\p{\\vec{x}}$\n",
    "\n",
    "\\begin{align*}\n",
    "\\p{\\vec{x}}\\cdot \\p{\\vec{x}\\to\\vec{y}}&=\\p{\\vec{x}}\\cdot q[\\vec{x}\\to\\vec{y}]\\cdot a[\\vec{x}\\to\\vec{y}]=q[\\vec{x}\\to\\vec{y}]\\cdot\\min\\{\\p{\\vec{y}},\\p{\\vec{x}}\\}\\\\\n",
    "\\p{\\vec{y}}\\cdot \\p{\\vec{y}\\to\\vec{x}}&=\\p{\\vec{y}}\\cdot q[\\vec{y}\\to\\vec{x}]\\cdot a[\\vec{y}\\to\\vec{x}]=q[\\vec{y}\\to\\vec{x}]\\cdot\\min\\{\\p{\\vec{x}},\\p{\\vec{y}}\\}\n",
    "\\end{align*}\n"
   ]
  },
  {
   "cell_type": "markdown",
   "id": "408e242f",
   "metadata": {
    "slideshow": {
     "slide_type": "subslide"
    }
   },
   "source": [
    "When $\\vec{x}\\neq \\vec{y}$ we can express for thedisribution $\\p{\\vec{x}}$\n",
    "\n",
    "\\begin{align*}\n",
    "\\p{\\vec{x}}\\cdot \\p{\\vec{x}\\to\\vec{y}}&=\\p{\\vec{x}}\\cdot q[\\vec{x}\\to\\vec{y}]\\cdot a[\\vec{x}\\to\\vec{y}]=q[\\vec{x}\\to\\vec{y}]\\cdot\\min\\{\\p{\\vec{y}},\\p{\\vec{x}}\\}\\\\\n",
    "\\p{\\vec{y}}\\cdot \\p{\\vec{y}\\to\\vec{x}}&=\\p{\\vec{y}}\\cdot q[\\vec{y}\\to\\vec{x}]\\cdot a[\\vec{y}\\to\\vec{x}]=q[\\vec{y}\\to\\vec{x}]\\cdot\\min\\{\\p{\\vec{x}},\\p{\\vec{y}}\\}\n",
    "\\end{align*}\n",
    "\n",
    "Hence, the transition preserves the disribution $\\p{\\vec{x}}$ as soon as the proposal distribution is symmetric \n",
    "\n",
    "\\begin{align*}\n",
    "q[\\vec{x}\\to\\vec{y}]=q[\\vec{y}\\to\\vec{x}]\\enspace.\n",
    "\\end{align*}\n"
   ]
  },
  {
   "cell_type": "markdown",
   "id": "5c07ab2b",
   "metadata": {
    "slideshow": {
     "slide_type": "slide"
    }
   },
   "source": [
    "## Implementation using tfp.mcmc.MetropolisHastings\n",
    "\n",
    "The kernel is fixed by specifying  `inner_kernel` with `inner_kernel.one_step()` function that returns auxiliary information in specific format:\n",
    "\n",
    "* Output type is `collections.namedtuple`\n",
    "* The tuple contains `target_log_prob` field\n",
    "* The tuple mey contain `log_acceptance_correction` field\n",
    "* Other Tensor type fields. \n"
   ]
  },
  {
   "cell_type": "markdown",
   "id": "ba23c2be",
   "metadata": {
    "slideshow": {
     "slide_type": "slide"
    }
   },
   "source": [
    "## Detour to Hamiltonian MonteCarlo algorithm\n",
    "\n",
    "**Problem.** We want to sample from a distribution $\\p{x_1,\\ldots,x_n}\\propto f(x_1,\\ldots,x_n)$. \n",
    "\n",
    "We can introduce artificial variables $y_1,\\ldots,y_n$ and sample variables from the distribution\n",
    "\n",
    "\\begin{align*}\n",
    "\\p{\\vec{x},\\vec{y}}\\propto\\exp\\left(-\\frac{U(\\vec{x})}{T}\\right)\\cdot\\exp\\left(-\\frac{K(\\vec{y})}{T}\\right)\n",
    "\\end{align*}\n",
    "\n",
    "where we can interpret \n",
    "* $\\vec{x}$ as position variable and $\\vec{y}$ as momentum variables \n",
    "* $U(\\cdot)$ as potential and $K(\\cdot)$ as kinetic energy.  \n",
    "* $T$ as the temperature of the system\n",
    "\n",
    "Now we are in the realm of statistical mechanics and molecular dynamics... "
   ]
  },
  {
   "cell_type": "markdown",
   "id": "ede540ee",
   "metadata": {
    "slideshow": {
     "slide_type": "slide"
    }
   },
   "source": [
    "## Hamiltonian as the total energy of the system\n",
    "\n",
    "The standard notation for position variables $\\vec{q}$ and for momentum variables $\\vec{p}$ and the total energy of the system is defined\n",
    "\n",
    "\\begin{align*}\n",
    " H(\\vec{q},\\vec{p})=U(\\vec{q})+K(\\vec{p})\n",
    "\\end{align*}\n",
    "\n",
    "Physical relation between $\\vec{q},\\vec{p}$ and energies yield a system of differential equations\n",
    "\n",
    "\\begin{align*}\n",
    "\\frac{dq_i}{dt}&=\\frac{\\partial H}{\\partial p_i}\\\\\n",
    "\\frac{dp_i}{dt}&=-\\frac{\\partial H}{\\partial q_i}\n",
    "\\end{align*}"
   ]
  },
  {
   "cell_type": "markdown",
   "id": "f249541e",
   "metadata": {
    "slideshow": {
     "slide_type": "subslide"
    }
   },
   "source": [
    "\n",
    "Physical relation between $\\vec{q},\\vec{p}$ and energies yield a system of differential equations\n",
    "\n",
    "\\begin{align*}\n",
    "\\frac{dq_i}{dt}&=\\frac{\\partial H}{\\partial p_i}\\\\\n",
    "\\frac{dp_i}{dt}&=-\\frac{\\partial H}{\\partial q_i}\n",
    "\\end{align*}\n",
    "\n",
    "which imply the invariant $ H(\\vec{q},\\vec{p})=const$ over time and introduces a determnistic transition $T$ over the phase space\n",
    "\n",
    "\\begin{align*}\n",
    "(\\vec{q},\\vec{p})\\xrightarrow{\\quad\\Delta t\\ passes\\quad} (\\vec{q}',\\vec{p}')\n",
    "\\end{align*}"
   ]
  },
  {
   "cell_type": "markdown",
   "id": "02e7357f",
   "metadata": {
    "slideshow": {
     "slide_type": "slide"
    }
   },
   "source": [
    "## Properties of the deterministic transition\n",
    "\n",
    "Hamiltonian dynamics assures that the transition $T$ has followinf properties\n",
    "* The transition $T$ is invertible\n",
    "* The transition preserves the extended distribution $\\p{\\vec{q},\\vec{p}}$\n",
    "\n",
    "As the transition is deterministic it is not a Markov chain that converges to $\\p{\\vec{q},\\vec{p}}$.\n",
    "\n",
    "* We must add a stohhastic component to momentum variables $\\vec{p}$. "
   ]
  },
  {
   "cell_type": "markdown",
   "id": "49767f08",
   "metadata": {
    "slideshow": {
     "slide_type": "slide"
    }
   },
   "source": [
    "##  Hamiltonian MonteCarlo algorithm\n",
    "\n",
    "**Step 1**\n",
    "\n",
    "* Draw momentum variables $\\vec{p}$ according to the distribution\n",
    "\n",
    "\\begin{align*}\n",
    "\\frac{1}{Z_k}\\exp\\left(-\\frac{K(\\vec{p})}{T}\\right)\n",
    "\\end{align*}\n",
    "\n",
    "* For properly chosen kinetic energy function the corresponding distribution is a Gaussian noise without correlations."
   ]
  },
  {
   "cell_type": "markdown",
   "id": "ab95aa1e",
   "metadata": {
    "slideshow": {
     "slide_type": "subslide"
    }
   },
   "source": [
    "**Step 2** \n",
    "* Apply the transition $T$ to the state $(\\vec{q},\\vec{p})$. \n",
    "* Let $(\\vec{q}^*,\\vec{p}^*)$ be the resulting state.\n",
    "* Accept $(\\vec{q}^*,\\vec{p}^*)$ with the probability\n",
    "  \n",
    "  \\begin{align*}\n",
    "  \\frac{\\p{\\vec{q}^*,\\vec{p}^*}}{\\p{\\vec{q},\\vec{p}}}=\\exp\\Bigl(H(\\vec{q},\\vec{p})-H(\\vec{q}^*,\\vec{p}^*)\\Bigr)\n",
    "  \\end{align*}\n",
    "  \n",
    "* Otherwise keep the current state $(\\vec{q},\\vec{p})$.   "
   ]
  },
  {
   "cell_type": "markdown",
   "id": "af1b2d33",
   "metadata": {
    "slideshow": {
     "slide_type": "slide"
    }
   },
   "source": [
    "## Tricks in numerical integration of differential equations\n",
    "\n",
    "Euler’s method for solving diferential equations $f(x+\\varepsilon)= f(x) + f'(x)\\cdot \\varepsilon$ does not work well for solving Hamiltonian dynamics.\n",
    "\n",
    "* It does not preserve total energy $H(\\vec{q},\\vec{p})$ and thus result becomes unstable.\n",
    "\n",
    "The Leapfrog Method is much more stable and preserves total energy ($T=1$)\n",
    "\n",
    "\\begin{align*}\n",
    "p_i(t+\\varepsilon/2)&=p_i(t)−\\frac{\\partial U(q(t))}{\\partial q_i}\\cdot \\frac{\\varepsilon}{2}\\\\\n",
    "q_i(t + \\varepsilon) &= q_i(t) +\\frac{\\partial K(pi(t + ε/2))}{\\partial p_i}\\cdot \\varepsilon\\\\\n",
    "p_i(t+\\varepsilon)&=p_i(t+\\varepsilon/2)− \\frac{∂U(q(t+ε))}{\\partial q_i}\\cdot \\frac{\\varepsilon}{2}.\n",
    "\\end{align*}\n",
    "\n",
    "\n",
    "The approximate transformation is fixed by the step size $\\varepsilon$ and the number of leapfrog steps."
   ]
  },
  {
   "cell_type": "markdown",
   "id": "b19cd5a5",
   "metadata": {
    "slideshow": {
     "slide_type": "slide"
    }
   },
   "source": [
    "## Implementation using tfp.mcmc.HamiltonianMonteCarlo\n",
    "\n",
    "\n",
    "The kernel is specified by giving the following arguments:\n",
    "\n",
    "* `target_log_prob_fn`: energy function for position variables\n",
    "* `step_size`: step size for numerical integration of Hamiltonian dynamics\n",
    "* `num_leapfrog_steps`: number of steps (time) for evaluating Hamiltonian.\n",
    "\n",
    "Everything else is done behind the scenes."
   ]
  }
 ],
 "metadata": {
  "celltoolbar": "Slideshow",
  "kernelspec": {
   "display_name": "Python 3 (ipykernel)",
   "language": "python",
   "name": "python3"
  },
  "language_info": {
   "codemirror_mode": {
    "name": "ipython",
    "version": 3
   },
   "file_extension": ".py",
   "mimetype": "text/x-python",
   "name": "python",
   "nbconvert_exporter": "python",
   "pygments_lexer": "ipython3",
   "version": "3.8.13"
  }
 },
 "nbformat": 4,
 "nbformat_minor": 5
}
