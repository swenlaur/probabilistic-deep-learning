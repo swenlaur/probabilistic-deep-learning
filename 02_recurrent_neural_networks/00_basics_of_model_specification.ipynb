{
 "cells": [
  {
   "cell_type": "markdown",
   "id": "2cb4ed83",
   "metadata": {},
   "source": [
    "# Basic of model specification\n",
    "\n",
    "There are two ways to define **keras** models: symbolic and imperative. \n",
    "A symbolic definition is quick fix to define a single model that is needed for a particular data analysis.\n",
    "An imperative definition is a class that can be reused in many projects.\n",
    "The following notebook highlights essential concepts needed to understand model definitions.\n",
    "Further details can be found in the following sources:\n",
    "\n",
    "* [Adil Lheureux. How to maximize GPU utilization by finding the right batch size](https://blog.paperspace.com/how-to-maximize-gpu-utilization-by-finding-the-right-batch-size/)\n",
    "* [Jason Brownlee. How to use Different Batch Sizes when Training and Predicting with LSTMs](https://machinelearningmastery.com/use-different-batch-sizes-training-predicting-python-keras/)\n"
   ]
  },
  {
   "cell_type": "code",
   "execution_count": 1,
   "id": "e0ad5107",
   "metadata": {},
   "outputs": [],
   "source": [
    "import tensorflow as tf\n",
    "from tensorflow.keras import layers"
   ]
  },
  {
   "cell_type": "markdown",
   "id": "d3aafca5",
   "metadata": {},
   "source": [
    "## I. Symbolic way to define keras models\n",
    "\n",
    "The simplest way to define a new **keras** model is by using so called Functional API to define the model.\n",
    "The process consits of three steps:\n",
    "\n",
    "* First,  we declare a symbolic input or list of such inputs.\n",
    "* Second, we use **Tensorflow API** to apply different layers to the inputs.\n",
    "* Third, we formalise this by defining an instance of `tf.keras.Model`.\n",
    "\n",
    "The **Tensorflow** framework will magically convert the declarative specification into neural network model that can be evaluated and trained. \n",
    "\n",
    "#### Symbolic inputs\n",
    "\n",
    "A symbolic input is specified through the class `tf.keras.Input` which must specify the shape of the input. \n",
    "You can additionally specify `batch_size`. The latter pre-declares that you intend to use the model on batches of specified size. As a result, the **Tensorflow** framework can optimise the network description sent to the GPU.\n",
    "Normally one does not want to specify it through the input specification.\n",
    "\n",
    "**Example:** Let us explicitly define that the neural network takes in 10 of 32-bit floats. <br>\n",
    "Note that the input is one dimesnional tensor with 10 slots and not 1 x 10 tensor. \n"
   ]
  },
  {
   "cell_type": "code",
   "execution_count": 2,
   "id": "fb8e5497",
   "metadata": {},
   "outputs": [],
   "source": [
    "inputs = tf.keras.Input(shape=(10,), dtype=tf.float32)"
   ]
  },
  {
   "cell_type": "markdown",
   "id": "e73ab9ce",
   "metadata": {},
   "source": [
    "#### Iterative definition of the neural network\n",
    "\n",
    "Next you can define the neural network by applying various layers on the input and intermediate results until you get the desired output. You can use different **Tensorflow** operations to reshape and split the intermediate results as long as the **Tensorflow** framework can compile it into legitimate network description.\n",
    "In particular, note that application of a layer `layer` on the input `x` is expressed `y = layer(x)`. \n",
    "\n",
    "**Example** Let us define linear regression by applying linear layer with single neuron on the input.  "
   ]
  },
  {
   "cell_type": "code",
   "execution_count": 3,
   "id": "3adce40f",
   "metadata": {},
   "outputs": [],
   "source": [
    "outputs = layers.Dense(units=1, activation='linear')(inputs)"
   ]
  },
  {
   "cell_type": "markdown",
   "id": "84ea58c3",
   "metadata": {},
   "source": [
    "#### Final model definition\n",
    "\n",
    "Now we can complete the definition by defining an new `tf.keras.Model` instance by decaring what are the inputs, outputs and the name of the model. Note that the name of the model cannot contain spaces and special symbols."
   ]
  },
  {
   "cell_type": "code",
   "execution_count": 4,
   "id": "0db359dc",
   "metadata": {},
   "outputs": [
    {
     "name": "stdout",
     "output_type": "stream",
     "text": [
      "Model: \"OLS_model_01\"\n",
      "_________________________________________________________________\n",
      " Layer (type)                Output Shape              Param #   \n",
      "=================================================================\n",
      " input_1 (InputLayer)        [(None, 10)]              0         \n",
      "                                                                 \n",
      " dense (Dense)               (None, 1)                 11        \n",
      "                                                                 \n",
      "=================================================================\n",
      "Total params: 11\n",
      "Trainable params: 11\n",
      "Non-trainable params: 0\n",
      "_________________________________________________________________\n"
     ]
    }
   ],
   "source": [
    "model = tf.keras.Model(inputs=inputs, outputs=outputs, name='OLS_model_01')\n",
    "model.summary()"
   ]
  },
  {
   "cell_type": "markdown",
   "id": "1c9e341a",
   "metadata": {},
   "source": [
    "#### Model training\n",
    "\n",
    "Before we can train the model we need to specify loss function, the basic optimisation method and hyperparameters. This is done by calling `model.compile` just before fitting the model. After completing `model.fit(...)` **Tensorflow** forgets the training configuration.\n",
    "\n",
    "Note here that the input data `x` must be a tensor where each element `x[i]` has the right input shape for the neural network. Similarly the target data `y` must be such that each element `y[i]` matches the the output shape of the neural network.   "
   ]
  },
  {
   "cell_type": "code",
   "execution_count": 7,
   "id": "d5bb8c58",
   "metadata": {},
   "outputs": [
    {
     "name": "stdout",
     "output_type": "stream",
     "text": [
      "Epoch 1/10\n",
      "2/2 [==============================] - 0s 1ms/step - loss: 0.3476 - mse: 0.3476\n",
      "Epoch 2/10\n",
      "2/2 [==============================] - 0s 939us/step - loss: 0.3398 - mse: 0.3398\n",
      "Epoch 3/10\n",
      "2/2 [==============================] - 0s 950us/step - loss: 0.3326 - mse: 0.3326\n",
      "Epoch 4/10\n",
      "2/2 [==============================] - 0s 1000us/step - loss: 0.3252 - mse: 0.3252\n",
      "Epoch 5/10\n",
      "2/2 [==============================] - 0s 1ms/step - loss: 0.3182 - mse: 0.3182\n",
      "Epoch 6/10\n",
      "2/2 [==============================] - 0s 958us/step - loss: 0.3122 - mse: 0.3122\n",
      "Epoch 7/10\n",
      "2/2 [==============================] - 0s 905us/step - loss: 0.3057 - mse: 0.3057\n",
      "Epoch 8/10\n",
      "2/2 [==============================] - 0s 902us/step - loss: 0.2995 - mse: 0.2995\n",
      "Epoch 9/10\n",
      "2/2 [==============================] - 0s 1ms/step - loss: 0.2940 - mse: 0.2940\n",
      "Epoch 10/10\n",
      "2/2 [==============================] - 0s 852us/step - loss: 0.2894 - mse: 0.2894\n"
     ]
    },
    {
     "data": {
      "text/plain": [
       "<keras.callbacks.History at 0x14d9865b0>"
      ]
     },
     "execution_count": 7,
     "metadata": {},
     "output_type": "execute_result"
    }
   ],
   "source": [
    "# Get training data\n",
    "x = tf.random.uniform(shape=(50, 10))\n",
    "y = tf.random.uniform(shape=(50,))\n",
    "\n",
    "# Train the model\n",
    "model.compile(loss='mse', optimizer='adam', metrics=['mse'])\n",
    "model.fit(x, y, epochs=10)"
   ]
  },
  {
   "cell_type": "markdown",
   "id": "e4d9f240",
   "metadata": {},
   "source": [
    "#### Model evaluation\n",
    "\n",
    "A call `model.evaluate(...)` allows us to compute the scores on data sets. Make sure that you specify what to compute by calling `model.compile(...)` before evaluating the model on the data.  "
   ]
  },
  {
   "cell_type": "code",
   "execution_count": 8,
   "id": "1a14b386",
   "metadata": {},
   "outputs": [
    {
     "data": {
      "text/plain": [
       "0.2850814759731293"
      ]
     },
     "execution_count": 8,
     "metadata": {},
     "output_type": "execute_result"
    }
   ],
   "source": [
    "model.compile(loss='mse')\n",
    "model.evaluate(x, y, verbose=0)"
   ]
  },
  {
   "cell_type": "markdown",
   "id": "342014f2",
   "metadata": {},
   "source": [
    "## II. Imperative way to define keras models\n",
    "\n",
    "TBA"
   ]
  }
 ],
 "metadata": {
  "kernelspec": {
   "display_name": "Python 3 (ipykernel)",
   "language": "python",
   "name": "python3"
  },
  "language_info": {
   "codemirror_mode": {
    "name": "ipython",
    "version": 3
   },
   "file_extension": ".py",
   "mimetype": "text/x-python",
   "name": "python",
   "nbconvert_exporter": "python",
   "pygments_lexer": "ipython3",
   "version": "3.8.13"
  }
 },
 "nbformat": 4,
 "nbformat_minor": 5
}
