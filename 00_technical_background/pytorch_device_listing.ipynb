{
 "cells": [
  {
   "cell_type": "markdown",
   "id": "30060f73",
   "metadata": {},
   "source": [
    "## Check what GPU are avilable\n",
    "\n",
    "PyTorch was build around graphical cards supporting CUDA and other backends have been added to the code base.\n",
    "As a result,  PyTorch is unable to tell you which GPU-s you have unless you know the magic abbrevation for the backend. This can be cumbersome. The next code snippet lists all backends and shows their support."
   ]
  },
  {
   "cell_type": "code",
   "execution_count": 1,
   "id": "0857efde",
   "metadata": {},
   "outputs": [
    {
     "name": "stdout",
     "output_type": "stream",
     "text": [
      "cuda\n",
      "- Is built:     False\n",
      "\n",
      "cudnn\n",
      "- Is available: False\n",
      "- Is enabled:   True\n",
      "\n",
      "mkl\n",
      "- Is available: False\n",
      "\n",
      "mkldnn\n",
      "- Is available: False\n",
      "- Is enabled:   True\n",
      "\n",
      "mps\n",
      "- Is built:     True\n",
      "- Is available: True\n",
      "\n",
      "openmp\n",
      "- Is available: False\n",
      "\n",
      "xnnpack\n",
      "- Is enabled:   True\n",
      "\n"
     ]
    }
   ],
   "source": [
    "import torch\n",
    "import pkgutil \n",
    "import importlib\n",
    "\n",
    "for submodule_info in pkgutil.iter_modules(torch.backends.__path__):\n",
    "    name = submodule_info.name\n",
    "    if name[0] == '_' or name == 'quantized':\n",
    "        continue\n",
    "\n",
    "    print(name)\n",
    "    submodule = importlib.import_module(f'torch.backends.{name}')\n",
    "\n",
    "    if hasattr(submodule,'is_built'): \n",
    "        print(f'- Is built:     {submodule.is_built()}')\n",
    "    if hasattr(submodule,'is_available'): \n",
    "        print(f'- Is available: {submodule.is_available()}')\n",
    "    if hasattr(submodule,'enabled'): \n",
    "        print(f'- Is enabled:   {submodule.enabled}')\n",
    "    print()\n"
   ]
  }
 ],
 "metadata": {
  "kernelspec": {
   "display_name": "Python 3 (ipykernel)",
   "language": "python",
   "name": "python3"
  },
  "language_info": {
   "codemirror_mode": {
    "name": "ipython",
    "version": 3
   },
   "file_extension": ".py",
   "mimetype": "text/x-python",
   "name": "python",
   "nbconvert_exporter": "python",
   "pygments_lexer": "ipython3",
   "version": "3.8.13"
  }
 },
 "nbformat": 4,
 "nbformat_minor": 5
}
